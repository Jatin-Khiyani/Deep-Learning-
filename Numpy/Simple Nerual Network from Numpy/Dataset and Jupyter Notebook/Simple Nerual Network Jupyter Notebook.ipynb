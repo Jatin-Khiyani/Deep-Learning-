{
 "cells": [
  {
   "cell_type": "markdown",
   "id": "58ead6d5-d2a1-4b3a-afbd-649b579d551e",
   "metadata": {},
   "source": [
    "\n",
    "# Problem Statement\n",
    " Making a 3 layer Neural Network for Digit Classification. Implimentation only using Numpy\n"
   ]
  },
  {
   "cell_type": "markdown",
   "id": "6ece71d9-804f-4791-a085-efe794599e27",
   "metadata": {},
   "source": [
    "## Importing Libraries"
   ]
  },
  {
   "cell_type": "code",
   "execution_count": 4,
   "id": "e5a9d4fe-a160-4641-ae04-604e471b88cb",
   "metadata": {},
   "outputs": [],
   "source": [
    "import numpy as np\n",
    "import pandas as pd\n",
    "import matplotlib.pyplot as plt"
   ]
  },
  {
   "cell_type": "markdown",
   "id": "20c34ea1-0a8e-41ea-9a99-b4e54fc253a6",
   "metadata": {},
   "source": [
    "## Importing testing and Training Data"
   ]
  },
  {
   "cell_type": "code",
   "execution_count": 5,
   "id": "fdbca6a5-7e0f-4f11-8d68-43d615d6d0e0",
   "metadata": {},
   "outputs": [],
   "source": [
    "train_data = pd.read_csv('/Users/harshakhiyani/My_Stuff/CODE/GITHUB/Deep-Learning-/Simple Nerual Network from Numpy/Dataset and Jupyter Notebook/Dataset/mnist_train copy.csv')\n",
    "test_data = pd.read_csv('/Users/harshakhiyani/My_Stuff/CODE/GITHUB/Deep-Learning-/Simple Nerual Network from Numpy/Dataset and Jupyter Notebook/Dataset/mnist_test.csv')"
   ]
  },
  {
   "cell_type": "markdown",
   "id": "21d86b32-59e2-4b1a-a2a2-ab9ac36bb8a1",
   "metadata": {},
   "source": [
    "## Dataset Analysis\n",
    "### Dataset shape\n"
   ]
  },
  {
   "cell_type": "code",
   "execution_count": 6,
   "id": "85e963ea-ba75-4fb9-8232-2dcb6c4e9e0b",
   "metadata": {},
   "outputs": [
    {
     "data": {
      "text/plain": [
       "(60000, 785)"
      ]
     },
     "execution_count": 6,
     "metadata": {},
     "output_type": "execute_result"
    }
   ],
   "source": [
    "train_data.shape"
   ]
  },
  {
   "cell_type": "code",
   "execution_count": 7,
   "id": "366c230b-ed1d-40fe-a624-e8420fce5859",
   "metadata": {},
   "outputs": [
    {
     "data": {
      "text/html": [
       "<div>\n",
       "<style scoped>\n",
       "    .dataframe tbody tr th:only-of-type {\n",
       "        vertical-align: middle;\n",
       "    }\n",
       "\n",
       "    .dataframe tbody tr th {\n",
       "        vertical-align: top;\n",
       "    }\n",
       "\n",
       "    .dataframe thead th {\n",
       "        text-align: right;\n",
       "    }\n",
       "</style>\n",
       "<table border=\"1\" class=\"dataframe\">\n",
       "  <thead>\n",
       "    <tr style=\"text-align: right;\">\n",
       "      <th></th>\n",
       "      <th>label</th>\n",
       "      <th>0</th>\n",
       "      <th>1</th>\n",
       "      <th>2</th>\n",
       "      <th>3</th>\n",
       "      <th>4</th>\n",
       "      <th>5</th>\n",
       "      <th>6</th>\n",
       "      <th>7</th>\n",
       "      <th>8</th>\n",
       "      <th>...</th>\n",
       "      <th>774</th>\n",
       "      <th>775</th>\n",
       "      <th>776</th>\n",
       "      <th>777</th>\n",
       "      <th>778</th>\n",
       "      <th>779</th>\n",
       "      <th>780</th>\n",
       "      <th>781</th>\n",
       "      <th>782</th>\n",
       "      <th>783</th>\n",
       "    </tr>\n",
       "  </thead>\n",
       "  <tbody>\n",
       "    <tr>\n",
       "      <th>0</th>\n",
       "      <td>5</td>\n",
       "      <td>0</td>\n",
       "      <td>0</td>\n",
       "      <td>0</td>\n",
       "      <td>0</td>\n",
       "      <td>0</td>\n",
       "      <td>0</td>\n",
       "      <td>0</td>\n",
       "      <td>0</td>\n",
       "      <td>0</td>\n",
       "      <td>...</td>\n",
       "      <td>0</td>\n",
       "      <td>0</td>\n",
       "      <td>0</td>\n",
       "      <td>0</td>\n",
       "      <td>0</td>\n",
       "      <td>0</td>\n",
       "      <td>0</td>\n",
       "      <td>0</td>\n",
       "      <td>0</td>\n",
       "      <td>0</td>\n",
       "    </tr>\n",
       "    <tr>\n",
       "      <th>1</th>\n",
       "      <td>0</td>\n",
       "      <td>0</td>\n",
       "      <td>0</td>\n",
       "      <td>0</td>\n",
       "      <td>0</td>\n",
       "      <td>0</td>\n",
       "      <td>0</td>\n",
       "      <td>0</td>\n",
       "      <td>0</td>\n",
       "      <td>0</td>\n",
       "      <td>...</td>\n",
       "      <td>0</td>\n",
       "      <td>0</td>\n",
       "      <td>0</td>\n",
       "      <td>0</td>\n",
       "      <td>0</td>\n",
       "      <td>0</td>\n",
       "      <td>0</td>\n",
       "      <td>0</td>\n",
       "      <td>0</td>\n",
       "      <td>0</td>\n",
       "    </tr>\n",
       "    <tr>\n",
       "      <th>2</th>\n",
       "      <td>4</td>\n",
       "      <td>0</td>\n",
       "      <td>0</td>\n",
       "      <td>0</td>\n",
       "      <td>0</td>\n",
       "      <td>0</td>\n",
       "      <td>0</td>\n",
       "      <td>0</td>\n",
       "      <td>0</td>\n",
       "      <td>0</td>\n",
       "      <td>...</td>\n",
       "      <td>0</td>\n",
       "      <td>0</td>\n",
       "      <td>0</td>\n",
       "      <td>0</td>\n",
       "      <td>0</td>\n",
       "      <td>0</td>\n",
       "      <td>0</td>\n",
       "      <td>0</td>\n",
       "      <td>0</td>\n",
       "      <td>0</td>\n",
       "    </tr>\n",
       "    <tr>\n",
       "      <th>3</th>\n",
       "      <td>1</td>\n",
       "      <td>0</td>\n",
       "      <td>0</td>\n",
       "      <td>0</td>\n",
       "      <td>0</td>\n",
       "      <td>0</td>\n",
       "      <td>0</td>\n",
       "      <td>0</td>\n",
       "      <td>0</td>\n",
       "      <td>0</td>\n",
       "      <td>...</td>\n",
       "      <td>0</td>\n",
       "      <td>0</td>\n",
       "      <td>0</td>\n",
       "      <td>0</td>\n",
       "      <td>0</td>\n",
       "      <td>0</td>\n",
       "      <td>0</td>\n",
       "      <td>0</td>\n",
       "      <td>0</td>\n",
       "      <td>0</td>\n",
       "    </tr>\n",
       "    <tr>\n",
       "      <th>4</th>\n",
       "      <td>9</td>\n",
       "      <td>0</td>\n",
       "      <td>0</td>\n",
       "      <td>0</td>\n",
       "      <td>0</td>\n",
       "      <td>0</td>\n",
       "      <td>0</td>\n",
       "      <td>0</td>\n",
       "      <td>0</td>\n",
       "      <td>0</td>\n",
       "      <td>...</td>\n",
       "      <td>0</td>\n",
       "      <td>0</td>\n",
       "      <td>0</td>\n",
       "      <td>0</td>\n",
       "      <td>0</td>\n",
       "      <td>0</td>\n",
       "      <td>0</td>\n",
       "      <td>0</td>\n",
       "      <td>0</td>\n",
       "      <td>0</td>\n",
       "    </tr>\n",
       "    <tr>\n",
       "      <th>...</th>\n",
       "      <td>...</td>\n",
       "      <td>...</td>\n",
       "      <td>...</td>\n",
       "      <td>...</td>\n",
       "      <td>...</td>\n",
       "      <td>...</td>\n",
       "      <td>...</td>\n",
       "      <td>...</td>\n",
       "      <td>...</td>\n",
       "      <td>...</td>\n",
       "      <td>...</td>\n",
       "      <td>...</td>\n",
       "      <td>...</td>\n",
       "      <td>...</td>\n",
       "      <td>...</td>\n",
       "      <td>...</td>\n",
       "      <td>...</td>\n",
       "      <td>...</td>\n",
       "      <td>...</td>\n",
       "      <td>...</td>\n",
       "      <td>...</td>\n",
       "    </tr>\n",
       "    <tr>\n",
       "      <th>59995</th>\n",
       "      <td>8</td>\n",
       "      <td>0</td>\n",
       "      <td>0</td>\n",
       "      <td>0</td>\n",
       "      <td>0</td>\n",
       "      <td>0</td>\n",
       "      <td>0</td>\n",
       "      <td>0</td>\n",
       "      <td>0</td>\n",
       "      <td>0</td>\n",
       "      <td>...</td>\n",
       "      <td>0</td>\n",
       "      <td>0</td>\n",
       "      <td>0</td>\n",
       "      <td>0</td>\n",
       "      <td>0</td>\n",
       "      <td>0</td>\n",
       "      <td>0</td>\n",
       "      <td>0</td>\n",
       "      <td>0</td>\n",
       "      <td>0</td>\n",
       "    </tr>\n",
       "    <tr>\n",
       "      <th>59996</th>\n",
       "      <td>3</td>\n",
       "      <td>0</td>\n",
       "      <td>0</td>\n",
       "      <td>0</td>\n",
       "      <td>0</td>\n",
       "      <td>0</td>\n",
       "      <td>0</td>\n",
       "      <td>0</td>\n",
       "      <td>0</td>\n",
       "      <td>0</td>\n",
       "      <td>...</td>\n",
       "      <td>0</td>\n",
       "      <td>0</td>\n",
       "      <td>0</td>\n",
       "      <td>0</td>\n",
       "      <td>0</td>\n",
       "      <td>0</td>\n",
       "      <td>0</td>\n",
       "      <td>0</td>\n",
       "      <td>0</td>\n",
       "      <td>0</td>\n",
       "    </tr>\n",
       "    <tr>\n",
       "      <th>59997</th>\n",
       "      <td>5</td>\n",
       "      <td>0</td>\n",
       "      <td>0</td>\n",
       "      <td>0</td>\n",
       "      <td>0</td>\n",
       "      <td>0</td>\n",
       "      <td>0</td>\n",
       "      <td>0</td>\n",
       "      <td>0</td>\n",
       "      <td>0</td>\n",
       "      <td>...</td>\n",
       "      <td>0</td>\n",
       "      <td>0</td>\n",
       "      <td>0</td>\n",
       "      <td>0</td>\n",
       "      <td>0</td>\n",
       "      <td>0</td>\n",
       "      <td>0</td>\n",
       "      <td>0</td>\n",
       "      <td>0</td>\n",
       "      <td>0</td>\n",
       "    </tr>\n",
       "    <tr>\n",
       "      <th>59998</th>\n",
       "      <td>6</td>\n",
       "      <td>0</td>\n",
       "      <td>0</td>\n",
       "      <td>0</td>\n",
       "      <td>0</td>\n",
       "      <td>0</td>\n",
       "      <td>0</td>\n",
       "      <td>0</td>\n",
       "      <td>0</td>\n",
       "      <td>0</td>\n",
       "      <td>...</td>\n",
       "      <td>0</td>\n",
       "      <td>0</td>\n",
       "      <td>0</td>\n",
       "      <td>0</td>\n",
       "      <td>0</td>\n",
       "      <td>0</td>\n",
       "      <td>0</td>\n",
       "      <td>0</td>\n",
       "      <td>0</td>\n",
       "      <td>0</td>\n",
       "    </tr>\n",
       "    <tr>\n",
       "      <th>59999</th>\n",
       "      <td>8</td>\n",
       "      <td>0</td>\n",
       "      <td>0</td>\n",
       "      <td>0</td>\n",
       "      <td>0</td>\n",
       "      <td>0</td>\n",
       "      <td>0</td>\n",
       "      <td>0</td>\n",
       "      <td>0</td>\n",
       "      <td>0</td>\n",
       "      <td>...</td>\n",
       "      <td>0</td>\n",
       "      <td>0</td>\n",
       "      <td>0</td>\n",
       "      <td>0</td>\n",
       "      <td>0</td>\n",
       "      <td>0</td>\n",
       "      <td>0</td>\n",
       "      <td>0</td>\n",
       "      <td>0</td>\n",
       "      <td>0</td>\n",
       "    </tr>\n",
       "  </tbody>\n",
       "</table>\n",
       "<p>60000 rows × 785 columns</p>\n",
       "</div>"
      ],
      "text/plain": [
       "       label  0  1  2  3  4  5  6  7  8  ...  774  775  776  777  778  779  \\\n",
       "0          5  0  0  0  0  0  0  0  0  0  ...    0    0    0    0    0    0   \n",
       "1          0  0  0  0  0  0  0  0  0  0  ...    0    0    0    0    0    0   \n",
       "2          4  0  0  0  0  0  0  0  0  0  ...    0    0    0    0    0    0   \n",
       "3          1  0  0  0  0  0  0  0  0  0  ...    0    0    0    0    0    0   \n",
       "4          9  0  0  0  0  0  0  0  0  0  ...    0    0    0    0    0    0   \n",
       "...      ... .. .. .. .. .. .. .. .. ..  ...  ...  ...  ...  ...  ...  ...   \n",
       "59995      8  0  0  0  0  0  0  0  0  0  ...    0    0    0    0    0    0   \n",
       "59996      3  0  0  0  0  0  0  0  0  0  ...    0    0    0    0    0    0   \n",
       "59997      5  0  0  0  0  0  0  0  0  0  ...    0    0    0    0    0    0   \n",
       "59998      6  0  0  0  0  0  0  0  0  0  ...    0    0    0    0    0    0   \n",
       "59999      8  0  0  0  0  0  0  0  0  0  ...    0    0    0    0    0    0   \n",
       "\n",
       "       780  781  782  783  \n",
       "0        0    0    0    0  \n",
       "1        0    0    0    0  \n",
       "2        0    0    0    0  \n",
       "3        0    0    0    0  \n",
       "4        0    0    0    0  \n",
       "...    ...  ...  ...  ...  \n",
       "59995    0    0    0    0  \n",
       "59996    0    0    0    0  \n",
       "59997    0    0    0    0  \n",
       "59998    0    0    0    0  \n",
       "59999    0    0    0    0  \n",
       "\n",
       "[60000 rows x 785 columns]"
      ]
     },
     "execution_count": 7,
     "metadata": {},
     "output_type": "execute_result"
    }
   ],
   "source": [
    "train_data"
   ]
  },
  {
   "cell_type": "markdown",
   "id": "c9a6f507-c850-4e61-8f05-c82e648e5bcc",
   "metadata": {},
   "source": [
    "###  Inputs should be in columns not rows "
   ]
  },
  {
   "cell_type": "code",
   "execution_count": 8,
   "id": "ae35f203-259c-4e42-9868-9dd74db3be90",
   "metadata": {},
   "outputs": [],
   "source": [
    "train_data = train_data.T\n",
    "test_data  = test_data.T"
   ]
  },
  {
   "cell_type": "code",
   "execution_count": 9,
   "id": "338b8550-3591-4c62-9cc0-530f86ee4c0e",
   "metadata": {},
   "outputs": [
    {
     "name": "stdout",
     "output_type": "stream",
     "text": [
      "(785, 60000) (785, 10000)\n"
     ]
    }
   ],
   "source": [
    "print(train_data.shape,test_data.shape)"
   ]
  },
  {
   "cell_type": "code",
   "execution_count": 10,
   "id": "8252a550-ee67-4e36-93b1-703b02b5f4e9",
   "metadata": {},
   "outputs": [],
   "source": [
    "train_data = np.array(train_data)\n",
    "test_data = np.array(test_data)"
   ]
  },
  {
   "cell_type": "markdown",
   "id": "39f1c588-70d7-474c-ae37-d3cc94d06775",
   "metadata": {},
   "source": [
    "## Training and Validation set Devision"
   ]
  },
  {
   "cell_type": "code",
   "execution_count": 11,
   "id": "62ca5e61-ea09-481c-b5ce-7df0e86e0374",
   "metadata": {},
   "outputs": [],
   "source": [
    "m,n = train_data.shape\n",
    "dev_set = train_data[0:,0:1000]\n",
    "Y_dev = dev_set[0,0:1000]\n",
    "X_dev = dev_set[1:,0:1000]\n",
    "Y_train = train_data[0,1000:n]\n",
    "X_train = train_data[1:,1000:n]"
   ]
  },
  {
   "cell_type": "code",
   "execution_count": 12,
   "id": "159f7083-7d46-4439-ac51-41bfc3a45baa",
   "metadata": {},
   "outputs": [
    {
     "data": {
      "text/plain": [
       "(784, 59000)"
      ]
     },
     "execution_count": 12,
     "metadata": {},
     "output_type": "execute_result"
    }
   ],
   "source": [
    "X_train.shape"
   ]
  },
  {
   "cell_type": "markdown",
   "id": "a9eb3b48-975a-450a-a961-7c37ae32840a",
   "metadata": {},
   "source": [
    "# Neural Network"
   ]
  },
  {
   "cell_type": "markdown",
   "id": "308008d3-7dd8-46d6-8982-42b3fe206983",
   "metadata": {},
   "source": [
    "# Intitalizing Weights"
   ]
  },
  {
   "cell_type": "code",
   "execution_count": 13,
   "id": "8566d535-5a1d-4ced-9ad4-87f37845262c",
   "metadata": {},
   "outputs": [],
   "source": [
    "def initialize_parameters(input_units,hidden_units,output_units):\n",
    "    W1 = np.random.randn(hidden_units,input_units) * 0.01\n",
    "    b1 = np.zeros((hidden_units,1))\n",
    "    W2 = np.random.randn(output_units,hidden_units)* 0.01\n",
    "    b2 = np.zeros((output_units,1))\n",
    "\n",
    "    return W1,b1,W2,b2"
   ]
  },
  {
   "cell_type": "code",
   "execution_count": 14,
   "id": "69a3aec9-4fad-4c9f-8cc1-2e0f647b5769",
   "metadata": {},
   "outputs": [
    {
     "name": "stdout",
     "output_type": "stream",
     "text": [
      "(10, 784) (10, 1) (10, 10) (10, 1)\n"
     ]
    }
   ],
   "source": [
    "W1,b1,W2,b2 = initialize_parameters(784,10,10)\n",
    "print(W1.shape,b1.shape,W2.shape,b2.shape)\n"
   ]
  },
  {
   "cell_type": "markdown",
   "id": "b8b8c349-74a9-43cd-bf1a-7cc8ad5869de",
   "metadata": {},
   "source": [
    "## Foward Propagation"
   ]
  },
  {
   "cell_type": "code",
   "execution_count": 15,
   "id": "f95d13a3-0c47-4fd2-baa9-f79b6feccc52",
   "metadata": {},
   "outputs": [],
   "source": [
    "def ReLU(Z1):\n",
    "    return np.maximum(0,Z1)\n",
    "def SoftMax(Z1):\n",
    "    return np.exp(Z1)/ np.sum(np.exp(Z1))\n",
    "def foward_Propagation(X_train,W1,W2,b1,b2):\n",
    "    A0 = X_train\n",
    "    Z1 = np.dot(W1,A0) + b1\n",
    "    A1 = ReLU(Z1)\n",
    "    Z2 = np.dot(W2,A1) + b2\n",
    "    A2 = SoftMax(Z2)\n",
    "    return Z1,A1,Z2,A2"
   ]
  },
  {
   "cell_type": "code",
   "execution_count": 16,
   "id": "e2f7e0a2-e424-4ff5-a96c-31b93dde63eb",
   "metadata": {},
   "outputs": [],
   "source": [
    "Z1,A1,Z2,A2 = foward_Propagation(X_train,W1,W2,b1,b2) "
   ]
  },
  {
   "cell_type": "markdown",
   "id": "d3d00e5b-df6b-443e-a9ef-5d9493f168c0",
   "metadata": {},
   "source": [
    " # One hot encoding"
   ]
  },
  {
   "cell_type": "code",
   "execution_count": 41,
   "id": "262bfc34-971d-40b6-9457-970a2a48c5a6",
   "metadata": {},
   "outputs": [],
   "source": [
    "def one_hot_encode(num_classes,Y):\n",
    "    Encoded_Y = np.eye(num_classes)[Y]\n",
    "    return Encoded_Y.T"
   ]
  },
  {
   "cell_type": "code",
   "execution_count": 42,
   "id": "2e15986e-81dc-4b05-968c-262df2249c43",
   "metadata": {},
   "outputs": [],
   "source": [
    "Encoded_Y = one_hot_encode(10,Y_train)"
   ]
  },
  {
   "cell_type": "markdown",
   "id": "737be249-6942-4839-bcdb-5d125e1f2df6",
   "metadata": {},
   "source": [
    "## Backpropgation"
   ]
  },
  {
   "cell_type": "code",
   "execution_count": 47,
   "id": "ba531e3b-9e6d-4f62-b430-d4e52c321d2c",
   "metadata": {},
   "outputs": [],
   "source": [
    "def dx_ReLU(Z):\n",
    "    return Z > 0\n",
    "def back_propagation(A0,Encoded_Y,Z1,A1,Z2,A2):\n",
    "    m = A0.shape[0]\n",
    "    dZ2 = A2-Encoded_Y\n",
    "    dW2 = 1/m*np.dot(dZ2,A1.T)\n",
    "    db2 = 1/m*np.sum(dZ2,axis =1,keepdims=True)\n",
    "    dZ1 = np.dot(W2.T,dZ2) * dx_ReLU(Z1)\n",
    "    dW1 = 1/m * np.dot(dZ1,A0)\n",
    "    db1 = 1/m*np.sum(dZ1,axis =1,keepdims=True)\n",
    "    return dW1,db1,dW2,db2"
   ]
  },
  {
   "cell_type": "code",
   "execution_count": 51,
   "id": "6c00537b-ee60-4db2-8a77-0077c4a0d04c",
   "metadata": {},
   "outputs": [],
   "source": [
    "A0 = X_train"
   ]
  },
  {
   "cell_type": "code",
   "execution_count": 53,
   "id": "3879b68d-ac58-4bae-bc97-20c118327e78",
   "metadata": {},
   "outputs": [
    {
     "data": {
      "text/plain": [
       "59000"
      ]
     },
     "execution_count": 53,
     "metadata": {},
     "output_type": "execute_result"
    }
   ],
   "source": [
    "A0.shape[1]"
   ]
  },
  {
   "cell_type": "markdown",
   "id": "22ca90fb-db10-4068-870f-43b999def6f5",
   "metadata": {},
   "source": [
    "# Updating Weights"
   ]
  },
  {
   "cell_type": "code",
   "execution_count": null,
   "id": "1d885fd8-3d23-4ea3-aa58-74e08531cb1f",
   "metadata": {},
   "outputs": [],
   "source": []
  }
 ],
 "metadata": {
  "kernelspec": {
   "display_name": "Python 3 (ipykernel)",
   "language": "python",
   "name": "python3"
  },
  "language_info": {
   "codemirror_mode": {
    "name": "ipython",
    "version": 3
   },
   "file_extension": ".py",
   "mimetype": "text/x-python",
   "name": "python",
   "nbconvert_exporter": "python",
   "pygments_lexer": "ipython3",
   "version": "3.10.4"
  }
 },
 "nbformat": 4,
 "nbformat_minor": 5
}
