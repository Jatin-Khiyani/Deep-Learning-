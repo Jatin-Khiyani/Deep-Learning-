{
 "cells": [
  {
   "cell_type": "markdown",
   "id": "58ead6d5-d2a1-4b3a-afbd-649b579d551e",
   "metadata": {},
   "source": [
    "\n",
    "# Problem Statement\n",
    " Making a 3 layer Neural Network for Digit Classification. Implimentation only using Numpy\n"
   ]
  },
  {
   "cell_type": "markdown",
   "id": "6ece71d9-804f-4791-a085-efe794599e27",
   "metadata": {},
   "source": [
    "## Importing Libraries"
   ]
  },
  {
   "cell_type": "code",
   "execution_count": 2,
   "id": "e5a9d4fe-a160-4641-ae04-604e471b88cb",
   "metadata": {},
   "outputs": [],
   "source": [
    "import numpy as np\n",
    "import pandas as pd\n",
    "import matplotlib.pyplot as plt"
   ]
  },
  {
   "cell_type": "markdown",
   "id": "20c34ea1-0a8e-41ea-9a99-b4e54fc253a6",
   "metadata": {},
   "source": [
    "## Importing testing and Training Data"
   ]
  },
  {
   "cell_type": "code",
   "execution_count": 6,
   "id": "fdbca6a5-7e0f-4f11-8d68-43d615d6d0e0",
   "metadata": {},
   "outputs": [],
   "source": [
    "train_data = pd.read_csv('mnist_test.csv')\n",
    "test_data = pd.read_csv = ('mnist_train copy.csv')"
   ]
  },
  {
   "cell_type": "code",
   "execution_count": null,
   "id": "362a6b13-5d8e-4d44-9c27-ddf01a892e7d",
   "metadata": {},
   "outputs": [],
   "source": []
  }
 ],
 "metadata": {
  "kernelspec": {
   "display_name": "Python 3 (ipykernel)",
   "language": "python",
   "name": "python3"
  },
  "language_info": {
   "codemirror_mode": {
    "name": "ipython",
    "version": 3
   },
   "file_extension": ".py",
   "mimetype": "text/x-python",
   "name": "python",
   "nbconvert_exporter": "python",
   "pygments_lexer": "ipython3",
   "version": "3.12.3"
  }
 },
 "nbformat": 4,
 "nbformat_minor": 5
}
