{
 "cells": [
  {
   "cell_type": "markdown",
   "id": "212532f1-5494-4d1d-b321-9d6021a456fb",
   "metadata": {},
   "source": [
    "# Importing Libraries"
   ]
  },
  {
   "cell_type": "code",
   "execution_count": 1,
   "id": "3e98b924-513d-4886-8a6f-50c58a4b17a1",
   "metadata": {},
   "outputs": [],
   "source": [
    "import torch "
   ]
  },
  {
   "cell_type": "markdown",
   "id": "8cf15823-f70f-4666-b5d3-40b6272f7c5b",
   "metadata": {},
   "source": [
    "# Loading Data"
   ]
  },
  {
   "cell_type": "code",
   "execution_count": 4,
   "id": "7932c1f9-c4bb-45b0-809d-6eb9850011da",
   "metadata": {},
   "outputs": [],
   "source": [
    "from torchvision import datasets, transforms \n",
    "from torch.utils.data import DataLoader"
   ]
  },
  {
   "cell_type": "code",
   "execution_count": null,
   "id": "108433a5-ba73-469c-9973-5e5b61687dc3",
   "metadata": {},
   "outputs": [],
   "source": [
    "transform = transforms.ToTensor() "
   ]
  },
  {
   "cell_type": "markdown",
   "id": "4d0173bd-9f5c-4869-b133-0b72f403ee3d",
   "metadata": {},
   "source": [
    "Transforms all objects to PyTorch Tensors"
   ]
  },
  {
   "cell_type": "markdown",
   "id": "4404b847-47ba-4f3f-93dc-3d11877d4b82",
   "metadata": {},
   "source": [
    "## Loading MNIST Dataset"
   ]
  },
  {
   "cell_type": "code",
   "execution_count": null,
   "id": "1e078bc6-16cd-497e-b711-255392963d46",
   "metadata": {},
   "outputs": [],
   "source": [
    "train_data = datasets.MNIST(root = 'data',train=True,download=True,transform = transform)\n",
    "test_data = datasets.MNIST(root - 'data',train=False,download=True,transform = transform)"
   ]
  },
  {
   "cell_type": "markdown",
   "id": "815fd8f2-d21b-4d50-9ecb-654d52cf5198",
   "metadata": {},
   "source": [
    "Here we are calling the MNIST dataset from the Pytorch's torch vision datasets\n",
    "the directory root is data\n",
    "for train_data train= true, for test data train=False\n",
    "If the data is not downloaded download=True will ensure that it is present in our system\n",
    "Lastly we apply a transformation function to change all the pixel values to Pytorch Tensors"
   ]
  },
  {
   "cell_type": "markdown",
   "id": "3661703a-7a0b-4889-991b-3585ed5059e8",
   "metadata": {},
   "source": [
    "# Defining the CNN"
   ]
  },
  {
   "cell_type": "code",
   "execution_count": null,
   "id": "556cedc1-f978-4698-8a08-323b1f8924b7",
   "metadata": {},
   "outputs": [],
   "source": [
    "import torch.nn as nn\n",
    "class CNN_Model(nn.Module):\n",
    "    def __init__(self):\n",
    "        super(CNNModel,self).__init__()\n",
    "        self.conv1 = nn.Conv2d(in_channels = 1,out_channels=32,kernel_size=3)\n",
    "        self.pool = nn.MaxPool2d(kernel_size=2,stride=2)\n",
    "        self.conv2 = nn.Conv2d(32,64,kernel_size+3)\n",
    "\n",
    "\n"
   ]
  },
  {
   "cell_type": "code",
   "execution_count": null,
   "id": "221de468-f0d8-4cf7-841f-c1f723d2d5b8",
   "metadata": {},
   "outputs": [],
   "source": []
  }
 ],
 "metadata": {
  "kernelspec": {
   "display_name": "Python 3 (ipykernel)",
   "language": "python",
   "name": "python3"
  },
  "language_info": {
   "codemirror_mode": {
    "name": "ipython",
    "version": 3
   },
   "file_extension": ".py",
   "mimetype": "text/x-python",
   "name": "python",
   "nbconvert_exporter": "python",
   "pygments_lexer": "ipython3",
   "version": "3.10.4"
  }
 },
 "nbformat": 4,
 "nbformat_minor": 5
}
